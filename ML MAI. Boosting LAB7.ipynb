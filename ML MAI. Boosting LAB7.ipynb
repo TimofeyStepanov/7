{
 "cells": [
  {
   "cell_type": "markdown",
   "metadata": {
    "id": "Zgoi8i6plWlO",
    "pycharm": {
     "name": "#%% md\n"
    }
   },
   "source": [
    "### О ЛР:\n",
    "\n",
    "- Coding Gradient boosting\n",
    "\n",
    "----\n",
    "\n",
    "#### Самостоятельная оценка результатов\n",
    "\n",
    "Для удобства проверки, исходя из набора решенных задач, посчитайте свою максимальную оценку (Она тут равняется 6).\n",
    "\n",
    "**Оценка**:\n",
    "\n",
    "***DeadLine - 09.01.2025 23:59***\n",
    "\n",
    "### Формат сдачи\n",
    "Задания сдаются через lms. Вы прикрепляете **ССЫЛКУ НА ПУБЛИЧНЫЙ РЕПОЗИТОРИЙ**, где выполнено ваше задание. Иначе задание не проверяется."
   ]
  },
  {
   "cell_type": "code",
   "metadata": {
    "id": "1XDUNTn4lWlP",
    "pycharm": {
     "name": "#%%\n"
    },
    "ExecuteTime": {
     "end_time": "2024-12-22T10:29:38.450002Z",
     "start_time": "2024-12-22T10:29:38.297998Z"
    }
   },
   "source": [
    "from warnings import filterwarnings\n",
    "\n",
    "import matplotlib.pyplot as plt\n",
    "import numpy as np\n",
    "import seaborn as sns\n",
    "from scipy.sparse import load_npz\n",
    "from sklearn.model_selection import train_test_split\n",
    "\n",
    "\n",
    "sns.set(style=\"darkgrid\")\n",
    "filterwarnings(\"ignore\")\n",
    "\n",
    "%load_ext autoreload\n",
    "%autoreload 2"
   ],
   "outputs": [
    {
     "name": "stdout",
     "output_type": "stream",
     "text": [
      "The autoreload extension is already loaded. To reload it, use:\n",
      "  %reload_ext autoreload\n"
     ]
    }
   ],
   "execution_count": 22
  },
  {
   "cell_type": "code",
   "metadata": {
    "id": "yvolL0KvlWlQ",
    "pycharm": {
     "name": "#%%\n"
    },
    "ExecuteTime": {
     "end_time": "2024-12-22T10:29:40.112801Z",
     "start_time": "2024-12-22T10:29:39.960626Z"
    }
   },
   "source": [
    "x = load_npz(\"x.npz\")\n",
    "y = np.load(\"y.npy\")"
   ],
   "outputs": [],
   "execution_count": 23
  },
  {
   "cell_type": "markdown",
   "metadata": {
    "id": "PRMjj9ZslWlQ",
    "pycharm": {
     "name": "#%% md\n"
    }
   },
   "source": "Разделим на обучающую, валидационную и тестовую выборки (`random_state` оставьте равным 777 для воспроизводимости)."
  },
  {
   "cell_type": "code",
   "metadata": {
    "id": "Hme6Cf0HlWlR",
    "pycharm": {
     "name": "#%%\n"
    },
    "ExecuteTime": {
     "end_time": "2024-12-22T10:29:41.750106Z",
     "start_time": "2024-12-22T10:29:41.585957Z"
    }
   },
   "source": [
    "x_train, x_test, y_train, y_test = train_test_split(\n",
    "    x, y, test_size=0.2, random_state=777\n",
    ") # я поправил на 777 (мне не очень нравится 666), надеюсь, ничего страшного\n",
    "\n",
    "x_test, x_valid, y_test, y_valid = train_test_split(\n",
    "    x_test, y_test, test_size=0.5, random_state=777\n",
    ")\n",
    "\n",
    "x_train.shape, x_valid.shape, x_test.shape"
   ],
   "outputs": [
    {
     "data": {
      "text/plain": [
       "((18825, 169), (2354, 169), (2353, 169))"
      ]
     },
     "execution_count": 24,
     "metadata": {},
     "output_type": "execute_result"
    }
   ],
   "execution_count": 24
  },
  {
   "cell_type": "markdown",
   "metadata": {
    "id": "tHaBuXarlWlR",
    "pycharm": {
     "name": "#%% md\n"
    }
   },
   "source": [
    "## Задание 1. Реализация градиентного бустинга [2 балла]\n",
    "\n",
    "Необходимо дописать код в файле `boosting.py`. Уже создан шаблон класса `Boosting`, который можно модифицировать по своему усмотрению.\n",
    "\n",
    "### Описание функций:\n",
    "\n",
    "#### `__init__`\n",
    "\n",
    "Конструктор класса принимает следующие параметры:\n",
    "\n",
    "- `base_model_class` — класс базовой модели для бустинга.\n",
    "- `base_model_params` — словарь гиперпараметров для базовой модели.\n",
    "- `n_estimators` — количество базовых моделей для обучения.\n",
    "- `learning_rate` — темп обучения, должен быть в диапазоне (0, 1].\n",
    "- `subsample` — доля обучающей выборки для тренировки базовой модели (размер бутстрап-выборки относительно исходной).\n",
    "- `early_stopping_rounds` — число итераций без улучшения на валидационной выборке, после которых обучение прекращается.\n",
    "- `plot` — флаг для построения графика качества моделей после обучения.\n",
    "\n",
    "#### `fit`\n",
    "\n",
    "Метод `fit` принимает обучающую и валидационную выборки.\n",
    "\n",
    "1. Инициализируем нулевую модель и делаем предсказания (например, все нули) для обеих выборок.\n",
    "2. Обучаем `n_estimators` базовых моделей:\n",
    "   - Обучаем новую базовую модель на текущих остатках.\n",
    "   - Обновляем предсказания на обучающей и валидационной выборках.\n",
    "   - Рассчитываем ошибки на обеих выборках с помощью `loss_fn`.\n",
    "   - Проверяем условия для ранней остановки.\n",
    "\n",
    "3. Если флаг `plot` установлен, строим график качества после обучения всех моделей.\n",
    "\n",
    "#### `fit_new_base_model`\n",
    "\n",
    "Метод `fit_new_base_model` принимает обучающую выборку и текущие предсказания для неё.\n",
    "\n",
    "1. Генерируем бутстрап-выборку.\n",
    "2. Обучаем базовую модель на этой выборке.\n",
    "3. Оптимизируем значение гаммы.\n",
    "4. Добавляем новую базовую модель и гамму в соответствующие списки (учитывая `learning_rate`).\n",
    "\n",
    "#### `predict_proba`\n",
    "\n",
    "Метод `predict_proba` принимает выборку для предсказания вероятностей.\n",
    "\n",
    "1. Суммируем предсказания базовых моделей (учитывая гамму и `learning_rate`).\n",
    "2. Применяем сигмоидальную функцию для получения вероятностей."
   ]
  },
  {
   "cell_type": "code",
   "metadata": {
    "id": "reqHbUEBlWlS",
    "pycharm": {
     "name": "#%%\n"
    },
    "ExecuteTime": {
     "end_time": "2024-12-22T11:22:16.315262Z",
     "start_time": "2024-12-22T11:22:15.433091Z"
    }
   },
   "source": [
    "%load_ext autoreload\n",
    "%autoreload 2\n",
    "\n",
    "from boosting import Boosting"
   ],
   "outputs": [
    {
     "name": "stdout",
     "output_type": "stream",
     "text": [
      "The autoreload extension is already loaded. To reload it, use:\n",
      "  %reload_ext autoreload\n"
     ]
    }
   ],
   "execution_count": 26
  },
  {
   "metadata": {
    "ExecuteTime": {
     "end_time": "2024-12-22T11:22:17.472385Z",
     "start_time": "2024-12-22T11:22:17.315355Z"
    }
   },
   "cell_type": "code",
   "source": "from boosting import Boosting",
   "outputs": [],
   "execution_count": 27
  },
  {
   "cell_type": "markdown",
   "metadata": {
    "id": "l7wWK5RplWlT",
    "pycharm": {
     "name": "#%% md\n"
    }
   },
   "source": [
    "### Проверка кода\n",
    "\n",
    "У автора задания всё учится около одной секунды."
   ]
  },
  {
   "cell_type": "code",
   "metadata": {
    "id": "00lZjzI3lWlT",
    "outputId": "c1aa6886-069b-433f-f0c1-5cf70bdb15cb",
    "pycharm": {
     "name": "#%%\n"
    },
    "ExecuteTime": {
     "end_time": "2024-12-22T11:23:36.809951Z",
     "start_time": "2024-12-22T11:23:35.248388Z"
    }
   },
   "source": [
    "boosting = Boosting()\n",
    "\n",
    "%time boosting.fit(x_train, y_train, x_valid, y_valid)\n",
    "#boosting.fit(x_train, y_train, x_valid, y_valid)\n",
    "\n",
    "assert len(boosting.models) == boosting.n_estimators\n",
    "assert len(boosting.gammas) == boosting.n_estimators\n",
    "\n",
    "assert boosting.predict_proba(x_test).shape == (x_test.shape[0], 2)\n",
    "\n",
    "print(f'Train ROC-AUC {boosting.score(x_train, y_train):.4f}')\n",
    "print(f'Valid ROC-AUC {boosting.score(x_valid, y_valid):.4f}')\n",
    "print(f'Test ROC-AUC {boosting.score(x_test, y_test):.4f}')"
   ],
   "outputs": [
    {
     "name": "stdout",
     "output_type": "stream",
     "text": [
      "CPU times: total: 1.34 s\n",
      "Wall time: 1.35 s\n",
      "Train ROC-AUC 0.9872\n",
      "Valid ROC-AUC 0.9342\n",
      "Test ROC-AUC 0.9410\n"
     ]
    }
   ],
   "execution_count": 34
  },
  {
   "cell_type": "markdown",
   "metadata": {
    "id": "MlU-c9CxlWlU",
    "pycharm": {
     "name": "#%% md\n"
    }
   },
   "source": [
    "## Задание 2. Обучение градиентного бустинга [0.5 балла]\n",
    "\n",
    "Оцените качество вашей реализации градиентного бустинга на тестовой выборке, используя базовые модели — решающие деревья с различной максимальной глубиной. Метрикой будет ROC-AUC.\n",
    "\n",
    "**Инструкция:**\n",
    "1. Перебирайте значения максимальной глубины деревьев от 1 до 30 с шагом 2.\n",
    "2. Оставьте остальные параметры бустинга по умолчанию.\n",
    "3. Постройте график зависимости качества на обучающей и тестовой выборке от максимальной глубины деревьев."
   ]
  },
  {
   "cell_type": "code",
   "metadata": {
    "id": "-IjO9FqelWlU",
    "pycharm": {
     "name": "#%%\n"
    },
    "ExecuteTime": {
     "end_time": "2024-12-22T11:32:43.983967Z",
     "start_time": "2024-12-22T11:32:30.503930Z"
    }
   },
   "source": [
    "results = {\n",
    "    \"train\": [],\n",
    "    \"test\": [],\n",
    "}\n",
    "\n",
    "depths = range(1, 30, 2)\n",
    "\n",
    "for depth in depths:\n",
    "    boosting = Boosting(base_model_params={'max_depth': depth, 'random_state':777})\n",
    "    boosting.fit(x_train, y_train, x_train, y_train)\n",
    "\n",
    "    results[\"train\"].append(boosting.score(x_train, y_train))\n",
    "    results[\"test\"].append(boosting.score(x_test, y_test))\n",
    "\n",
    "plt.figure(figsize=(15, 5))\n",
    "plt.plot(depths, results[\"train\"], label='Train')\n",
    "plt.plot(depths, results[\"test\"], label='Test')\n",
    "\n",
    "plt.xlabel('Max depth')\n",
    "plt.ylabel('ROC-AUC')\n",
    "\n",
    "plt.legend()\n",
    "plt.show()\n",
    "\n",
    "### ╰( ͡☉ ͜ʖ ͡☉ )つ──☆*:・ﾟ   ฅ^•ﻌ•^ฅ   ʕ•ᴥ•ʔ"
   ],
   "outputs": [
    {
     "data": {
      "text/plain": [
       "<Figure size 1080x360 with 1 Axes>"
      ],
      "image/png": "[encoded data removed]"
     },
     "metadata": {},
     "output_type": "display_data"
    }
   ],
   "execution_count": 41
  },
  {
   "cell_type": "markdown",
   "metadata": {
    "id": "bshz0JV6lWlV",
    "pycharm": {
     "name": "#%% md\n"
    }
   },
   "source": [
    "**Какая из моделей имеет лучшее качество? Как вы можете это объяснить?**\n",
    "\n",
    "╰( ͡☉ ͜ʖ ͡☉ )つ──☆*:・ﾟ   ฅ^•ﻌ•^ฅ   ʕ•ᴥ•ʔ\n",
    "\n",
    "Модель с глубиной где-то до 10 (7 или 8). Далее на тестовой выборе ухудшение показателей. Скорее всего при большой глубине модель все больше переобучается, показывая все хуже и хуже резлуьтаты"
   ]
  },
  {
   "cell_type": "markdown",
   "metadata": {
    "id": "8FwaUsmqlWlV"
   },
   "source": [
    "## Задание 3. Подбор гиперпараметров и поиск оптимальной модели [3 балла]\n",
    "\n",
    "Настройте основные гиперпараметры вашей модели градиентного бустинга, используя валидационную выборку. Подберите параметры как для самого бустинга, так и для базовых моделей.\n",
    "\n",
    "**Рекомендации:**\n",
    "- Используйте библиотеки для автоматизированного подбора гиперпараметров, такие как [Hyperopt](https://github.com/hyperopt/hyperopt) или [Optuna](https://optuna.org/).\n",
    "- Подберите все основные параметры, чтобы найти лучшую модель на валидационной выборке."
   ]
  },
  {
   "cell_type": "code",
   "metadata": {
    "id": "rZq0rKpWlWlV",
    "pycharm": {
     "is_executing": true,
     "name": "#%%\n"
    },
    "ExecuteTime": {
     "end_time": "2024-12-22T11:35:51.135379Z",
     "start_time": "2024-12-22T11:35:45.256862Z"
    }
   },
   "source": [
    "### ╰( ͡☉ ͜ʖ ͡☉ )つ──☆*:・ﾟ   ฅ^•ﻌ•^ฅ   ʕ•ᴥ•ʔ\n",
    "\n",
    "!pip install optuna\n"
   ],
   "outputs": [
    {
     "name": "stdout",
     "output_type": "stream",
     "text": [
      "Collecting optuna\n",
      "  Downloading optuna-4.1.0-py3-none-any.whl.metadata (16 kB)\n",
      "Collecting alembic>=1.5.0 (from optuna)\n",
      "  Downloading alembic-1.14.0-py3-none-any.whl.metadata (7.4 kB)\n",
      "Collecting colorlog (from optuna)\n",
      "  Downloading colorlog-6.9.0-py3-none-any.whl.metadata (10 kB)\n",
      "Requirement already satisfied: numpy in c:\\users\\timofey.laptop-kqgjsa46\\anaconda3\\lib\\site-packages (from optuna) (1.21.5)\n",
      "Requirement already satisfied: packaging>=20.0 in c:\\users\\timofey.laptop-kqgjsa46\\anaconda3\\lib\\site-packages (from optuna) (21.3)\n",
      "Requirement already satisfied: sqlalchemy>=1.4.2 in c:\\users\\timofey.laptop-kqgjsa46\\anaconda3\\lib\\site-packages (from optuna) (1.4.32)\n",
      "Requirement already satisfied: tqdm in c:\\users\\timofey.laptop-kqgjsa46\\anaconda3\\lib\\site-packages (from optuna) (4.64.0)\n",
      "Requirement already satisfied: PyYAML in c:\\users\\timofey.laptop-kqgjsa46\\anaconda3\\lib\\site-packages (from optuna) (6.0)\n",
      "Collecting Mako (from alembic>=1.5.0->optuna)\n",
      "  Downloading Mako-1.3.8-py3-none-any.whl.metadata (2.9 kB)\n",
      "Requirement already satisfied: typing-extensions>=4 in c:\\users\\timofey.laptop-kqgjsa46\\anaconda3\\lib\\site-packages (from alembic>=1.5.0->optuna) (4.1.1)\n",
      "Requirement already satisfied: pyparsing!=3.0.5,>=2.0.2 in c:\\users\\timofey.laptop-kqgjsa46\\anaconda3\\lib\\site-packages (from packaging>=20.0->optuna) (3.0.4)\n",
      "Requirement already satisfied: greenlet!=0.4.17 in c:\\users\\timofey.laptop-kqgjsa46\\anaconda3\\lib\\site-packages (from sqlalchemy>=1.4.2->optuna) (1.1.1)\n",
      "Requirement already satisfied: colorama in c:\\users\\timofey.laptop-kqgjsa46\\anaconda3\\lib\\site-packages (from colorlog->optuna) (0.4.4)\n",
      "Requirement already satisfied: MarkupSafe>=0.9.2 in c:\\users\\timofey.laptop-kqgjsa46\\anaconda3\\lib\\site-packages (from Mako->alembic>=1.5.0->optuna) (2.0.1)\n",
      "Downloading optuna-4.1.0-py3-none-any.whl (364 kB)\n",
      "Downloading alembic-1.14.0-py3-none-any.whl (233 kB)\n",
      "Downloading colorlog-6.9.0-py3-none-any.whl (11 kB)\n",
      "Downloading Mako-1.3.8-py3-none-any.whl (78 kB)\n",
      "Installing collected packages: Mako, colorlog, alembic, optuna\n",
      "Successfully installed Mako-1.3.8 alembic-1.14.0 colorlog-6.9.0 optuna-4.1.0\n"
     ]
    },
    {
     "name": "stderr",
     "output_type": "stream",
     "text": [
      "\n",
      "[notice] A new release of pip is available: 22.2.2 -> 24.3.1\n",
      "[notice] To update, run: python.exe -m pip install --upgrade pip\n"
     ]
    }
   ],
   "execution_count": 42
  },
  {
   "metadata": {
    "ExecuteTime": {
     "end_time": "2024-12-22T12:26:40.548070Z",
     "start_time": "2024-12-22T12:21:46.251095Z"
    }
   },
   "cell_type": "code",
   "source": [
    "import optuna\n",
    "from sklearn.metrics import roc_auc_score\n",
    "\n",
    "def foo(o):\n",
    "    model = Boosting(base_model_params={\n",
    "                        'max_depth': o.suggest_int('max_depth', 1, 30),\n",
    "                        'random_state': 777\n",
    "                    },\n",
    "                    n_estimators=o.suggest_int('n_estimators', 1, 70),\n",
    "                    learning_rate=o.suggest_float('learning_rate', 0.01, 0.7),\n",
    "                    subsample=o.suggest_float('subsample', 0.5, 1.0),\n",
    "                    early_stopping_rounds = o.suggest_int('early_stopping_rounds', 1, 70)\n",
    "    )\n",
    "    model.fit(x_train, y_train, x_valid, y_valid)\n",
    "    pred = boosting.predict_proba(x_valid)\n",
    "    return roc_auc_score(y_valid, pred[:, 1])\n",
    "\n",
    "study = optuna.create_study()\n",
    "study.optimize(foo, n_trials=50)\n",
    "print(study.best_trial.params)"
   ],
   "outputs": [
    {
     "name": "stderr",
     "output_type": "stream",
     "text": [
      "[I 2024-12-22 15:21:46,538] A new study created in memory with name: no-name-13dfbbfa-1126-4461-b62b-2bae58edd514\n",
      "[I 2024-12-22 15:21:48,964] Trial 0 finished with value: 0.9400114801534881 and parameters: {'max_depth': 11, 'n_estimators': 21, 'learning_rate': 0.36903684697719924, 'subsample': 0.6514029976841242, 'early_stopping_rounds': 69}. Best is trial 0 with value: 0.9400114801534881.\n",
      "[I 2024-12-22 15:22:02,210] Trial 1 finished with value: 0.9400114801534881 and parameters: {'max_depth': 21, 'n_estimators': 66, 'learning_rate': 0.1821822819724319, 'subsample': 0.5502992857911435, 'early_stopping_rounds': 41}. Best is trial 0 with value: 0.9400114801534881.\n",
      "[I 2024-12-22 15:22:05,204] Trial 2 finished with value: 0.9400114801534881 and parameters: {'max_depth': 5, 'n_estimators': 55, 'learning_rate': 0.5031020126978354, 'subsample': 0.7077836515439258, 'early_stopping_rounds': 51}. Best is trial 0 with value: 0.9400114801534881.\n",
      "[I 2024-12-22 15:22:16,071] Trial 3 finished with value: 0.9400114801534881 and parameters: {'max_depth': 24, 'n_estimators': 38, 'learning_rate': 0.4063574610246397, 'subsample': 0.7086074068896943, 'early_stopping_rounds': 64}. Best is trial 0 with value: 0.9400114801534881.\n",
      "[I 2024-12-22 15:22:18,751] Trial 4 finished with value: 0.9400114801534881 and parameters: {'max_depth': 6, 'n_estimators': 41, 'learning_rate': 0.5753663773696521, 'subsample': 0.8368033802229965, 'early_stopping_rounds': 1}. Best is trial 0 with value: 0.9400114801534881.\n",
      "[I 2024-12-22 15:22:19,165] Trial 5 finished with value: 0.9400114801534881 and parameters: {'max_depth': 4, 'n_estimators': 8, 'learning_rate': 0.16234608847083554, 'subsample': 0.8431011553986587, 'early_stopping_rounds': 1}. Best is trial 0 with value: 0.9400114801534881.\n",
      "[I 2024-12-22 15:22:25,371] Trial 6 finished with value: 0.9400114801534881 and parameters: {'max_depth': 24, 'n_estimators': 19, 'learning_rate': 0.41312683610451395, 'subsample': 0.8018115756405342, 'early_stopping_rounds': 37}. Best is trial 0 with value: 0.9400114801534881.\n",
      "[I 2024-12-22 15:22:29,740] Trial 7 finished with value: 0.9400114801534881 and parameters: {'max_depth': 7, 'n_estimators': 61, 'learning_rate': 0.47260670734343774, 'subsample': 0.8173541916285243, 'early_stopping_rounds': 13}. Best is trial 0 with value: 0.9400114801534881.\n",
      "[I 2024-12-22 15:22:30,318] Trial 8 finished with value: 0.9400114801534881 and parameters: {'max_depth': 5, 'n_estimators': 12, 'learning_rate': 0.40808366012601466, 'subsample': 0.5043141436413625, 'early_stopping_rounds': 64}. Best is trial 0 with value: 0.9400114801534881.\n",
      "[I 2024-12-22 15:22:34,590] Trial 9 finished with value: 0.9400114801534881 and parameters: {'max_depth': 25, 'n_estimators': 13, 'learning_rate': 0.05616052022261656, 'subsample': 0.783824778768002, 'early_stopping_rounds': 66}. Best is trial 0 with value: 0.9400114801534881.\n",
      "[I 2024-12-22 15:22:40,078] Trial 10 finished with value: 0.9400114801534881 and parameters: {'max_depth': 14, 'n_estimators': 26, 'learning_rate': 0.6930537893369506, 'subsample': 0.9877691839725147, 'early_stopping_rounds': 17}. Best is trial 0 with value: 0.9400114801534881.\n",
      "[I 2024-12-22 15:22:48,418] Trial 11 finished with value: 0.9400114801534881 and parameters: {'max_depth': 17, 'n_estimators': 50, 'learning_rate': 0.24625727088721852, 'subsample': 0.5637422934915687, 'early_stopping_rounds': 44}. Best is trial 0 with value: 0.9400114801534881.\n",
      "[I 2024-12-22 15:22:52,997] Trial 12 finished with value: 0.9400114801534881 and parameters: {'max_depth': 16, 'n_estimators': 28, 'learning_rate': 0.2802109890809377, 'subsample': 0.6080527535454274, 'early_stopping_rounds': 27}. Best is trial 0 with value: 0.9400114801534881.\n",
      "[I 2024-12-22 15:23:00,428] Trial 13 finished with value: 0.9400114801534881 and parameters: {'max_depth': 11, 'n_estimators': 68, 'learning_rate': 0.13608019018156503, 'subsample': 0.6228457330415488, 'early_stopping_rounds': 51}. Best is trial 0 with value: 0.9400114801534881.\n",
      "[I 2024-12-22 15:23:00,605] Trial 14 finished with value: 0.9400114801534881 and parameters: {'max_depth': 30, 'n_estimators': 1, 'learning_rate': 0.27980415575614725, 'subsample': 0.5038685637287362, 'early_stopping_rounds': 53}. Best is trial 0 with value: 0.9400114801534881.\n",
      "[I 2024-12-22 15:23:11,533] Trial 15 finished with value: 0.9400114801534881 and parameters: {'max_depth': 20, 'n_estimators': 44, 'learning_rate': 0.01703531000224412, 'subsample': 0.6601048420514108, 'early_stopping_rounds': 30}. Best is trial 0 with value: 0.9400114801534881.\n",
      "[I 2024-12-22 15:23:14,394] Trial 16 finished with value: 0.9400114801534881 and parameters: {'max_depth': 10, 'n_estimators': 30, 'learning_rate': 0.18291522881055447, 'subsample': 0.5763874206625355, 'early_stopping_rounds': 70}. Best is trial 0 with value: 0.9400114801534881.\n",
      "[I 2024-12-22 15:23:16,868] Trial 17 finished with value: 0.9400114801534881 and parameters: {'max_depth': 1, 'n_estimators': 69, 'learning_rate': 0.32851003364192116, 'subsample': 0.6573824041156654, 'early_stopping_rounds': 58}. Best is trial 0 with value: 0.9400114801534881.\n",
      "[I 2024-12-22 15:23:23,744] Trial 18 finished with value: 0.9400114801534881 and parameters: {'max_depth': 20, 'n_estimators': 21, 'learning_rate': 0.11194434818629849, 'subsample': 0.9059177664213519, 'early_stopping_rounds': 41}. Best is trial 0 with value: 0.9400114801534881.\n",
      "[I 2024-12-22 15:23:31,099] Trial 19 finished with value: 0.9400114801534881 and parameters: {'max_depth': 12, 'n_estimators': 54, 'learning_rate': 0.2321688259636469, 'subsample': 0.7256912803434221, 'early_stopping_rounds': 24}. Best is trial 0 with value: 0.9400114801534881.\n",
      "[I 2024-12-22 15:23:39,566] Trial 20 finished with value: 0.9400114801534881 and parameters: {'max_depth': 19, 'n_estimators': 47, 'learning_rate': 0.5805352209744423, 'subsample': 0.5603456715941141, 'early_stopping_rounds': 47}. Best is trial 0 with value: 0.9400114801534881.\n",
      "[I 2024-12-22 15:23:44,425] Trial 21 finished with value: 0.9400114801534881 and parameters: {'max_depth': 9, 'n_estimators': 59, 'learning_rate': 0.5012390560001792, 'subsample': 0.6900190813140479, 'early_stopping_rounds': 54}. Best is trial 0 with value: 0.9400114801534881.\n",
      "[I 2024-12-22 15:23:46,670] Trial 22 finished with value: 0.9400114801534881 and parameters: {'max_depth': 2, 'n_estimators': 60, 'learning_rate': 0.3418734557977674, 'subsample': 0.748850223650922, 'early_stopping_rounds': 59}. Best is trial 0 with value: 0.9400114801534881.\n",
      "[I 2024-12-22 15:23:55,398] Trial 23 finished with value: 0.9400114801534881 and parameters: {'max_depth': 14, 'n_estimators': 65, 'learning_rate': 0.48002301938050757, 'subsample': 0.6330905485861811, 'early_stopping_rounds': 38}. Best is trial 0 with value: 0.9400114801534881.\n",
      "[I 2024-12-22 15:23:58,821] Trial 24 finished with value: 0.9400114801534881 and parameters: {'max_depth': 7, 'n_estimators': 52, 'learning_rate': 0.5787496816351614, 'subsample': 0.6729078667177714, 'early_stopping_rounds': 47}. Best is trial 0 with value: 0.9400114801534881.\n",
      "[I 2024-12-22 15:24:08,057] Trial 25 finished with value: 0.9400114801534881 and parameters: {'max_depth': 27, 'n_estimators': 35, 'learning_rate': 0.6595747305584388, 'subsample': 0.597517201234741, 'early_stopping_rounds': 33}. Best is trial 0 with value: 0.9400114801534881.\n",
      "[I 2024-12-22 15:24:14,227] Trial 26 finished with value: 0.9400114801534881 and parameters: {'max_depth': 13, 'n_estimators': 55, 'learning_rate': 0.37619323178647607, 'subsample': 0.5372196149672044, 'early_stopping_rounds': 58}. Best is trial 0 with value: 0.9400114801534881.\n",
      "[I 2024-12-22 15:24:19,842] Trial 27 finished with value: 0.9400114801534881 and parameters: {'max_depth': 9, 'n_estimators': 64, 'learning_rate': 0.5273083822275244, 'subsample': 0.7172286466767427, 'early_stopping_rounds': 48}. Best is trial 0 with value: 0.9400114801534881.\n",
      "[I 2024-12-22 15:24:29,643] Trial 28 finished with value: 0.9400114801534881 and parameters: {'max_depth': 22, 'n_estimators': 33, 'learning_rate': 0.2101357176335707, 'subsample': 0.7723671696792751, 'early_stopping_rounds': 42}. Best is trial 0 with value: 0.9400114801534881.\n",
      "[I 2024-12-22 15:24:31,181] Trial 29 finished with value: 0.9400114801534881 and parameters: {'max_depth': 2, 'n_estimators': 41, 'learning_rate': 0.4204272580701971, 'subsample': 0.697375203879657, 'early_stopping_rounds': 70}. Best is trial 0 with value: 0.9400114801534881.\n",
      "[I 2024-12-22 15:24:35,267] Trial 30 finished with value: 0.9400114801534881 and parameters: {'max_depth': 18, 'n_estimators': 21, 'learning_rate': 0.3196218458514033, 'subsample': 0.6436590106137068, 'early_stopping_rounds': 61}. Best is trial 0 with value: 0.9400114801534881.\n",
      "[I 2024-12-22 15:24:48,545] Trial 31 finished with value: 0.9400114801534881 and parameters: {'max_depth': 27, 'n_estimators': 40, 'learning_rate': 0.4438376351145889, 'subsample': 0.7425247976418341, 'early_stopping_rounds': 64}. Best is trial 0 with value: 0.9400114801534881.\n",
      "[I 2024-12-22 15:25:01,252] Trial 32 finished with value: 0.9400114801534881 and parameters: {'max_depth': 22, 'n_estimators': 39, 'learning_rate': 0.37155192052003577, 'subsample': 0.8577049981397726, 'early_stopping_rounds': 67}. Best is trial 0 with value: 0.9400114801534881.\n",
      "[I 2024-12-22 15:25:13,410] Trial 33 finished with value: 0.9400114801534881 and parameters: {'max_depth': 22, 'n_estimators': 47, 'learning_rate': 0.5319593209533863, 'subsample': 0.6979532652862771, 'early_stopping_rounds': 54}. Best is trial 0 with value: 0.9400114801534881.\n",
      "[I 2024-12-22 15:25:27,959] Trial 34 finished with value: 0.9400114801534881 and parameters: {'max_depth': 25, 'n_estimators': 58, 'learning_rate': 0.2944966991083724, 'subsample': 0.597360288856506, 'early_stopping_rounds': 62}. Best is trial 0 with value: 0.9400114801534881.\n",
      "[I 2024-12-22 15:25:28,732] Trial 35 finished with value: 0.9400114801534881 and parameters: {'max_depth': 4, 'n_estimators': 17, 'learning_rate': 0.44422415717611463, 'subsample': 0.5376573522266834, 'early_stopping_rounds': 56}. Best is trial 0 with value: 0.9400114801534881.\n",
      "[I 2024-12-22 15:25:29,085] Trial 36 finished with value: 0.9400114801534881 and parameters: {'max_depth': 6, 'n_estimators': 5, 'learning_rate': 0.6252678752329268, 'subsample': 0.7785405565517042, 'early_stopping_rounds': 37}. Best is trial 0 with value: 0.9400114801534881.\n",
      "[I 2024-12-22 15:25:38,438] Trial 37 finished with value: 0.9400114801534881 and parameters: {'max_depth': 29, 'n_estimators': 24, 'learning_rate': 0.38871068914267126, 'subsample': 0.8340264266713392, 'early_stopping_rounds': 68}. Best is trial 0 with value: 0.9400114801534881.\n",
      "[I 2024-12-22 15:25:42,072] Trial 38 finished with value: 0.9400114801534881 and parameters: {'max_depth': 24, 'n_estimators': 13, 'learning_rate': 0.45046219930309467, 'subsample': 0.7145868864156198, 'early_stopping_rounds': 51}. Best is trial 0 with value: 0.9400114801534881.\n",
      "[I 2024-12-22 15:25:46,507] Trial 39 finished with value: 0.9400114801534881 and parameters: {'max_depth': 7, 'n_estimators': 64, 'learning_rate': 0.5407712092879793, 'subsample': 0.8052432605484483, 'early_stopping_rounds': 65}. Best is trial 0 with value: 0.9400114801534881.\n",
      "[I 2024-12-22 15:25:52,932] Trial 40 finished with value: 0.9400114801534881 and parameters: {'max_depth': 15, 'n_estimators': 37, 'learning_rate': 0.08160506105566925, 'subsample': 0.6771138780168928, 'early_stopping_rounds': 4}. Best is trial 0 with value: 0.9400114801534881.\n",
      "[I 2024-12-22 15:25:54,449] Trial 41 finished with value: 0.9400114801534881 and parameters: {'max_depth': 4, 'n_estimators': 31, 'learning_rate': 0.5834976559944725, 'subsample': 0.8856145371233346, 'early_stopping_rounds': 12}. Best is trial 0 with value: 0.9400114801534881.\n",
      "[I 2024-12-22 15:25:58,536] Trial 42 finished with value: 0.9400114801534881 and parameters: {'max_depth': 8, 'n_estimators': 45, 'learning_rate': 0.4927358682418808, 'subsample': 0.9247320384760721, 'early_stopping_rounds': 22}. Best is trial 0 with value: 0.9400114801534881.\n",
      "[I 2024-12-22 15:26:01,575] Trial 43 finished with value: 0.9400114801534881 and parameters: {'max_depth': 5, 'n_estimators': 51, 'learning_rate': 0.6213917135706611, 'subsample': 0.9764521382770399, 'early_stopping_rounds': 1}. Best is trial 0 with value: 0.9400114801534881.\n",
      "[I 2024-12-22 15:26:10,048] Trial 44 finished with value: 0.9400114801534881 and parameters: {'max_depth': 16, 'n_estimators': 43, 'learning_rate': 0.4074187473831218, 'subsample': 0.7611473345767613, 'early_stopping_rounds': 44}. Best is trial 0 with value: 0.9400114801534881.\n",
      "[I 2024-12-22 15:26:16,941] Trial 45 finished with value: 0.9400114801534881 and parameters: {'max_depth': 10, 'n_estimators': 70, 'learning_rate': 0.6978410157429362, 'subsample': 0.7937949733780943, 'early_stopping_rounds': 32}. Best is trial 0 with value: 0.9400114801534881.\n",
      "[I 2024-12-22 15:26:19,996] Trial 46 finished with value: 0.9400114801534881 and parameters: {'max_depth': 11, 'n_estimators': 28, 'learning_rate': 0.16301134123826885, 'subsample': 0.6232765219385112, 'early_stopping_rounds': 8}. Best is trial 0 with value: 0.9400114801534881.\n",
      "[I 2024-12-22 15:26:23,483] Trial 47 finished with value: 0.9400114801534881 and parameters: {'max_depth': 6, 'n_estimators': 56, 'learning_rate': 0.2459344332802133, 'subsample': 0.8310231487449344, 'early_stopping_rounds': 20}. Best is trial 0 with value: 0.9400114801534881.\n",
      "[I 2024-12-22 15:26:28,721] Trial 48 finished with value: 0.9400114801534881 and parameters: {'max_depth': 23, 'n_estimators': 16, 'learning_rate': 0.5566616761523947, 'subsample': 0.8614058787790044, 'early_stopping_rounds': 40}. Best is trial 0 with value: 0.9400114801534881.\n",
      "[I 2024-12-22 15:26:40,531] Trial 49 finished with value: 0.9400114801534881 and parameters: {'max_depth': 20, 'n_estimators': 48, 'learning_rate': 0.5128764731694953, 'subsample': 0.7390103731127595, 'early_stopping_rounds': 28}. Best is trial 0 with value: 0.9400114801534881.\n"
     ]
    },
    {
     "name": "stdout",
     "output_type": "stream",
     "text": [
      "{'max_depth': 11, 'n_estimators': 21, 'learning_rate': 0.36903684697719924, 'subsample': 0.6514029976841242, 'early_stopping_rounds': 69}\n"
     ]
    }
   ],
   "execution_count": 43
  },
  {
   "cell_type": "markdown",
   "metadata": {
    "id": "hGk-Wt_slWlV",
    "pycharm": {
     "name": "#%% md\n"
    }
   },
   "source": [
    "## Задание 4. Интерпретация градиентного бустинга [1 балл]\n",
    "\n",
    "Постройте калибровочную кривую для вашей лучшей модели градиентного бустинга и оцените, насколько точно модель предсказывает вероятности.\n",
    "\n",
    "**Инструкция:**\n",
    "1. Постройте калибровочную кривую для лучшей модели градиентного бустинга.\n",
    "2. Постройте аналогичную кривую для логистической регрессии.\n",
    "3. Сравните полученные результаты и проанализируйте, насколько хорошо каждая модель оценивает вероятности."
   ]
  },
  {
   "cell_type": "code",
   "metadata": {
    "id": "LdJG4bHClWlV",
    "pycharm": {
     "name": "#%%\n"
    },
    "ExecuteTime": {
     "end_time": "2024-12-22T12:39:39.545912Z",
     "start_time": "2024-12-22T12:39:36.704894Z"
    }
   },
   "source": [
    "### ╰( ͡☉ ͜ʖ ͡☉ )つ──☆*:・ﾟ   ฅ^•ﻌ•^ฅ   ʕ•ᴥ•ʔ\n",
    "from sklearn.linear_model import LogisticRegression\n",
    "from sklearn.calibration import calibration_curve\n",
    "\n",
    "########### Boosting #############\n",
    "boosting_model = Boosting(\n",
    "    base_model_params={\n",
    "        'max_depth': study.best_trial.params['max_depth'],\n",
    "        'random_state': 777\n",
    "    },\n",
    "    n_estimators=study.best_trial.params['n_estimators'],\n",
    "    learning_rate=study.best_trial.params['learning_rate'],\n",
    "    subsample=study.best_trial.params['subsample'],\n",
    "    early_stopping_rounds=study.best_trial.params['early_stopping_rounds']\n",
    ")\n",
    "boosting_model.fit(x_train, y_train, x_valid, y_valid)\n",
    "boosting_score = roc_auc_score(y_test, boosting_model.predict_proba(x_test)[:, 1])\n",
    "prob_boosting = boosting_model.predict_proba(x_test)[:, 1]\n",
    "\n",
    "################ LR ###############\n",
    "LR_model = LogisticRegression()\n",
    "LR_model.fit(x_train, y_train)\n",
    "prob_LR = LR_model.predict_proba(x_test)[:, 1]\n",
    "\n",
    "################### Отрисуем ##############\n",
    "\n",
    "plt.figure(figsize=(15, 5))\n",
    "\n",
    "prob_boosting_true, prob_boosting_pred = calibration_curve(y_test, prob_boosting)\n",
    "plt.plot(prob_boosting_pred, prob_boosting_true, label='Boosting')\n",
    "\n",
    "prob_true_log_reg, prob_pred_log_reg = calibration_curve(y_test, prob_LR)\n",
    "plt.plot(prob_pred_log_reg, prob_true_log_reg, label='LR')\n",
    "\n",
    "plt.xlabel('Предсказанные вероятности')\n",
    "plt.ylabel('Доля положительных классов')\n",
    "\n",
    "plt.legend()\n",
    "plt.show()\n"
   ],
   "outputs": [
    {
     "data": {
      "text/plain": [
       "<Figure size 1080x360 with 1 Axes>"
      ],
      "image/png": "[encoded data removed]"
     },
     "metadata": {},
     "output_type": "display_data"
    }
   ],
   "execution_count": 48
  },
  {
   "cell_type": "markdown",
   "metadata": {
    "id": "8O6bjp2MlWlW",
    "pycharm": {
     "name": "#%% md\n"
    }
   },
   "source": [
    "Теперь оценим важность признаков для градиентного бустинга.\n",
    "\n",
    "**Задание:**\n",
    "1. Поскольку базовая модель — дерево из `sklearn`, вычислите важность каждого признака для каждого дерева, используя атрибут `feature_importances_` у `DecisionTreeRegressor`.\n",
    "2. Усредните значения важности по всем деревьям и нормализуйте их так, чтобы сумма была равна единице (убедитесь, что значения неотрицательны).\n",
    "3. Дополните вашу реализацию бустинга, добавив метод `feature_importances_`, который будет возвращать усредненные и нормализованные важности признаков.\n",
    "\n",
    "**Построение графиков:**\n",
    "1. Постройте столбчатую диаграмму важности признаков для градиентного бустинга.\n",
    "2. На соседнем графике изобразите важность признаков для логистической регрессии, используя модули весов.\n",
    "3. Сравните графики и проанализируйте полученные результаты."
   ]
  },
  {
   "cell_type": "code",
   "metadata": {
    "id": "y0JNgBk_lWlW",
    "pycharm": {
     "name": "#%%\n"
    },
    "ExecuteTime": {
     "end_time": "2024-12-22T12:56:23.514589Z",
     "start_time": "2024-12-22T12:56:23.062419Z"
    }
   },
   "source": [
    "### ╰( ͡☉ ͜ʖ ͡☉ )つ──☆*:・ﾟ   ฅ^•ﻌ•^ฅ   ʕ•ᴥ•ʔ\n",
    "\n",
    "plt.figure(figsize=(15, 5))\n",
    "\n",
    "########### Boosting ##############\n",
    "\n",
    "plt.subplot(1, 2, 1)\n",
    "plt.hist(boosting_model.feature_importances_, color='blue')\n",
    "plt.title('Boosting')\n",
    "plt.xlabel('Важность признака')\n",
    "plt.ylabel('Количество')\n",
    "plt.grid(True)\n",
    "\n",
    "################ LR ###############\n",
    "\n",
    "plt.subplot(1, 2, 2)\n",
    "plt.hist(np.abs(LR_model.coef_[0]), color='red')\n",
    "plt.title('LR')\n",
    "plt.xlabel('Важность признака')\n",
    "plt.ylabel('Количество')\n",
    "plt.grid(True)\n",
    "\n",
    "plt.show()"
   ],
   "outputs": [
    {
     "data": {
      "text/plain": [
       "<Figure size 1080x360 with 2 Axes>"
      ],
      "image/png": "[encoded data removed]"
     },
     "metadata": {},
     "output_type": "display_data"
    }
   ],
   "execution_count": 62
  },
  {
   "metadata": {},
   "cell_type": "markdown",
   "source": "Как-то непонятно, воспользуюсь логарифмом"
  },
  {
   "metadata": {
    "ExecuteTime": {
     "end_time": "2024-12-22T13:16:30.264284Z",
     "start_time": "2024-12-22T13:16:29.601245Z"
    }
   },
   "cell_type": "code",
   "source": [
    "plt.figure(figsize=(15, 5))\n",
    "\n",
    "########### Boosting #############\n",
    "\n",
    "plt.subplot(1, 2, 1)\n",
    "plt.hist(boosting_model.feature_importances_, color='blue', log=True)\n",
    "plt.title('Boosting')\n",
    "plt.xlabel('Важность признака')\n",
    "plt.ylabel('Количество')\n",
    "plt.grid(True)\n",
    "\n",
    "################ LR ###############\n",
    "\n",
    "plt.subplot(1, 2, 2)\n",
    "plt.hist(np.abs(LR_model.coef_[0]), color='red', log=True)\n",
    "plt.title('LR')\n",
    "plt.xlabel('Важность признака')\n",
    "plt.ylabel('Количество')\n",
    "plt.grid(True)\n",
    "\n",
    "plt.show()"
   ],
   "outputs": [
    {
     "data": {
      "text/plain": [
       "<Figure size 1080x360 with 2 Axes>"
      ],
      "image/png": "[encoded data removed]"
     },
     "metadata": {},
     "output_type": "display_data"
    }
   ],
   "execution_count": 63
  },
  {
   "cell_type": "markdown",
   "metadata": {
    "id": "xheSi2IolWlW",
    "pycharm": {
     "name": "#%% md\n"
    }
   },
   "source": [
    "Обычно избыточные признаки могут негативно влиять на качество бустинга. Попробуйте следующее:\n",
    "\n",
    "1. **Отфильтруйте неважные признаки:** Используйте построенную диаграмму важности признаков, чтобы отобрать наиболее незначительные признаки.\n",
    "2. **Обучите модель повторно:** Обучите модель на основе оставшихся признаков с теми же гиперпараметрами.\n",
    "3. **Оцените качество модели:** Сравните результаты новой модели с исходной. Улучшилось ли качество после отфильтровывания незначительных признаков?"
   ]
  },
  {
   "cell_type": "code",
   "metadata": {
    "id": "Rw9W9MEYlWlW",
    "pycharm": {
     "name": "#%%\n"
    },
    "ExecuteTime": {
     "end_time": "2024-12-22T13:23:38.966418Z",
     "start_time": "2024-12-22T13:23:36.414242Z"
    }
   },
   "source": [
    "### ╰( ͡☉ ͜ʖ ͡☉ )つ──☆*:・ﾟ   ฅ^•ﻌ•^ฅ   ʕ•ᴥ•ʔ\n",
    "\n",
    "\n",
    "new_model_boosting = Boosting(\n",
    "    base_model_params={\n",
    "        'max_depth': study.best_trial.params['max_depth'],\n",
    "        'random_state': 777\n",
    "    },\n",
    "    n_estimators=study.best_trial.params['n_estimators'],\n",
    "    learning_rate=study.best_trial.params['learning_rate'],\n",
    "    subsample=study.best_trial.params['subsample'],\n",
    "    early_stopping_rounds=study.best_trial.params['early_stopping_rounds']\n",
    ")\n",
    "\n",
    "\n",
    "########### Немного отфильтурем feature_importances ################\n",
    "quantile = np.quantile(boosting_model.feature_importances_, 0.15)\n",
    "filtered_features = np.where(boosting_model.feature_importances_ >= quantile)[0]\n",
    "\n",
    "########### Обучим и сравним #############\n",
    "new_model_boosting.fit(\n",
    "    x_train[:, filtered_features], y_train,\n",
    "    x_valid[:, filtered_features], y_valid\n",
    ")\n",
    "\n",
    "new_score = roc_auc_score(\n",
    "    y_test,\n",
    "    new_model_boosting.predict_proba(x_test[:, filtered_features])[:, 1]\n",
    ")\n",
    "\n",
    "print(boosting_score, new_score)\n",
    "print(f'Delta: {abs(boosting_score - new_score)}')\n"
   ],
   "outputs": [
    {
     "name": "stdout",
     "output_type": "stream",
     "text": [
      "0.9551510656016287 0.9552130800566345\n",
      "Delta: 6.201445500586544e-05\n"
     ]
    }
   ],
   "execution_count": 65
  },
  {
   "cell_type": "markdown",
   "metadata": {
    "id": "pH3489RklWlW",
    "pycharm": {
     "name": "#%% md\n"
    }
   },
   "source": [
    "## Задание 5 (бонус). Блендинговое [0.5 балла]\n",
    "\n",
    "Реализуйте блендинг над вашей лучшей моделью и логистической регрессией. Улучшилось ли качество?"
   ]
  },
  {
   "cell_type": "code",
   "execution_count": null,
   "metadata": {
    "id": "FWcDMMVilWlW",
    "pycharm": {
     "name": "#%%\n"
    }
   },
   "outputs": [],
   "source": [
    "### ╰( ͡☉ ͜ʖ ͡☉ )つ──☆*:・ﾟ   ฅ^•ﻌ•^ฅ   ʕ•ᴥ•ʔ\n",
    "\n"
   ]
  },
  {
   "cell_type": "markdown",
   "metadata": {
    "collapsed": false,
    "id": "eEF0yJ4vlWlX",
    "pycharm": {
     "name": "#%% md\n"
    }
   },
   "source": [
    "## Задание 6 (бонус). Катбустовое [0.5 балла]\n",
    "\n",
    "Запустите [CatBoost](https://catboost.ai/en/docs/concepts/python-quickstart) на наших данных, сравните с вашей реализацией. Где получилось лучше?"
   ]
  },
  {
   "cell_type": "code",
   "execution_count": null,
   "metadata": {
    "id": "0lYGhc_clWlX",
    "pycharm": {
     "name": "#%%\n"
    }
   },
   "outputs": [],
   "source": [
    "### ╰( ͡☉ ͜ʖ ͡☉ )つ──☆*:・ﾟ   ฅ^•ﻌ•^ฅ   ʕ•ᴥ•ʔ\n",
    "\n"
   ]
  },
  {
   "cell_type": "markdown",
   "metadata": {
    "id": "EqHzTXCllZO8"
   },
   "source": [
    "Оставьте пожалуйста отзыв о курсе!\n",
    "\n",
    "https://forms.gle/LajA3Xrps6u96Q5A8\n",
    "\n",
    "\n",
    "Это очень важно. Благодаря обратной связи мы будем двигаться в сторону антиградиента)\n"
   ]
  }
 ],
 "metadata": {
  "colab": {
   "provenance": []
  },
  "kernelspec": {
   "display_name": "Python 3 (ipykernel)",
   "language": "python",
   "name": "python3"
  },
  "language_info": {
   "codemirror_mode": {
    "name": "ipython",
    "version": 3
   },
   "file_extension": ".py",
   "mimetype": "text/x-python",
   "name": "python",
   "nbconvert_exporter": "python",
   "pygments_lexer": "ipython3",
   "version": "3.9.7"
  },
  "nbTranslate": {
   "displayLangs": [
    "*"
   ],
   "hotkey": "alt-t",
   "langInMainMenu": true,
   "sourceLang": "en",
   "targetLang": "fr",
   "useGoogleTranslate": true
  },
  "toc": {
   "base_numbering": 1,
   "nav_menu": {
    "height": "210px",
    "width": "492px"
   },
   "number_sections": false,
   "sideBar": true,
   "skip_h1_title": false,
   "title_cell": "Table of Contents",
   "title_sidebar": "Contents",
   "toc_cell": false,
   "toc_position": {},
   "toc_section_display": true,
   "toc_window_display": true
  },
  "varInspector": {
   "cols": {
    "lenName": 16,
    "lenType": 16,
    "lenVar": 40
   },
   "kernels_config": {
    "python": {
     "delete_cmd_postfix": "",
     "delete_cmd_prefix": "del ",
     "library": "var_list.py",
     "varRefreshCmd": "print(var_dic_list())"
    },
    "r": {
     "delete_cmd_postfix": ") ",
     "delete_cmd_prefix": "rm(",
     "library": "var_list.r",
     "varRefreshCmd": "cat(var_dic_list()) "
    }
   },
   "types_to_exclude": [
    "module",
    "function",
    "builtin_function_or_method",
    "instance",
    "_Feature"
   ],
   "window_display": false
  }
 },
 "nbformat": 4,
 "nbformat_minor": 0
}
